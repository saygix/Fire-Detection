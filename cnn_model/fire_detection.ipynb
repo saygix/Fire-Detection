{
  "nbformat": 4,
  "nbformat_minor": 0,
  "metadata": {
    "colab": {
      "provenance": [],
      "gpuType": "T4"
    },
    "kernelspec": {
      "name": "python3",
      "display_name": "Python 3"
    },
    "language_info": {
      "name": "python"
    },
    "accelerator": "GPU"
  },
  "cells": [
    {
      "cell_type": "code",
      "source": [
        "import os\n",
        "import numpy as np\n",
        "from PIL import Image\n",
        "\n",
        "# Veri seti yolu\n",
        "data_path = \"/content/drive/MyDrive/gdrive/Fire-Detection\"\n",
        "\n",
        "# Sınıf etiketleri\n",
        "class_names = [\"0\", \"1\"]\n",
        "\n",
        "# Veri setindeki görüntü sayısı\n",
        "num_samples = sum([len(files) for r, d, files in os.walk(data_path)])\n",
        "\n",
        "# Veri seti boyutları\n",
        "img_height, img_width = 128, 128\n",
        "num_channels = 3\n",
        "\n",
        "# X ve y için numpy dizileri\n",
        "X = np.zeros((num_samples, img_height, img_width, num_channels), dtype=np.float32)\n",
        "y = np.zeros((num_samples,), dtype=np.int32)\n",
        "\n",
        "# Verileri yükleyip numpy dizilerine dönüştürme\n",
        "index = 0\n",
        "for i, class_name in enumerate(class_names):\n",
        "    class_path = os.path.join(data_path, class_name)\n",
        "    for img_name in os.listdir(class_path):\n",
        "        img_path = os.path.join(class_path, img_name)\n",
        "        img = Image.open(img_path)\n",
        "        img = img.resize((img_height, img_width))\n",
        "\n",
        "        # Dört kanallı görüntüyü üç kanallıya dönüştürme\n",
        "        img = img.convert(\"RGB\")\n",
        "\n",
        "        X[index] = np.array(img, dtype=np.float32) / 255.\n",
        "        y[index] = i\n",
        "        index += 1\n",
        "\n",
        "# Veri setini karıştırma\n",
        "np.random.seed(42)\n",
        "shuffle_index = np.random.permutation(num_samples)\n",
        "X, y = X[shuffle_index], y[shuffle_index]\n",
        "\n",
        "# Veri setini train, test ve validation olarak ayırma\n",
        "num_train_samples = int(0.7 * num_samples)\n",
        "num_test_samples = int(0.2 * num_samples)\n",
        "num_val_samples = num_samples - num_train_samples - num_test_samples\n",
        "\n",
        "x_train, y_train = X[:num_train_samples], y[:num_train_samples]\n",
        "x_test, y_test = X[num_train_samples:num_train_samples+num_test_samples], y[num_train_samples:num_train_samples+num_test_samples]\n",
        "x_val, y_val = X[num_train_samples+num_test_samples:], y[num_train_samples+num_test_samples:]\n",
        "\n",
        "# Dizileri npy dosyalarına kaydetme\n",
        "np.save('x_train.npy', x_train)\n",
        "np.save('y_train.npy', y_train)\n",
        "np.save('x_test.npy', x_test)\n",
        "np.save('y_test.npy', y_test)\n",
        "np.save('x_val.npy', x_val)\n",
        "np.save('y_val.npy', y_val)\n"
      ],
      "metadata": {
        "id": "vilHve1RqQt5"
      },
      "execution_count": 1,
      "outputs": []
    },
    {
      "cell_type": "code",
      "source": [
        "import tensorflow as tf\n",
        "from tensorflow.keras.models import Sequential\n",
        "from tensorflow.keras.layers import Conv2D, MaxPooling2D, Flatten, Dense, Dropout\n"
      ],
      "metadata": {
        "id": "PCikDUWfyhEy"
      },
      "execution_count": 2,
      "outputs": []
    },
    {
      "cell_type": "code",
      "source": [
        "# Dizileri yükleme\n",
        "x_train = np.load('x_train.npy')\n",
        "y_train = np.load('y_train.npy')\n",
        "x_test = np.load('x_test.npy')\n",
        "y_test = np.load('y_test.npy')\n",
        "x_val = np.load('x_val.npy')\n",
        "y_val = np.load('y_val.npy')"
      ],
      "metadata": {
        "id": "-l5aQzH60pZz"
      },
      "execution_count": 3,
      "outputs": []
    },
    {
      "cell_type": "code",
      "source": [
        "# CNN Modelini Oluşturma\n",
        "cnn_model = Sequential()\n",
        "cnn_model.add(Conv2D(32, (3, 3), activation='relu', input_shape=(img_height, img_width, num_channels)))\n",
        "cnn_model.add(MaxPooling2D(pool_size=(2, 2)))\n",
        "cnn_model.add(Conv2D(64, (3, 3), activation='relu'))\n",
        "cnn_model.add(MaxPooling2D(pool_size=(2, 2)))\n",
        "cnn_model.add(Flatten())\n",
        "cnn_model.add(Dense(128, activation='relu'))\n",
        "cnn_model.add(Dropout(0.2))\n",
        "cnn_model.add(Dense(1, activation='sigmoid'))"
      ],
      "metadata": {
        "id": "Grk_Nc0bxz2g"
      },
      "execution_count": 4,
      "outputs": []
    },
    {
      "cell_type": "code",
      "source": [
        "# Model derleme\n",
        "cnn_model.compile(optimizer='adam', loss='binary_crossentropy', metrics=['accuracy'])"
      ],
      "metadata": {
        "id": "6NKGoVSnDUce"
      },
      "execution_count": 5,
      "outputs": []
    },
    {
      "cell_type": "code",
      "source": [
        "# Model özeti\n",
        "cnn_model.summary()"
      ],
      "metadata": {
        "id": "SKEkQFaNEa_b",
        "colab": {
          "base_uri": "https://localhost:8080/"
        },
        "outputId": "66123534-7a4e-4f34-ae75-c7f14008ed50"
      },
      "execution_count": 6,
      "outputs": [
        {
          "output_type": "stream",
          "name": "stdout",
          "text": [
            "Model: \"sequential\"\n",
            "_________________________________________________________________\n",
            " Layer (type)                Output Shape              Param #   \n",
            "=================================================================\n",
            " conv2d (Conv2D)             (None, 126, 126, 32)      896       \n",
            "                                                                 \n",
            " max_pooling2d (MaxPooling2D  (None, 63, 63, 32)       0         \n",
            " )                                                               \n",
            "                                                                 \n",
            " conv2d_1 (Conv2D)           (None, 61, 61, 64)        18496     \n",
            "                                                                 \n",
            " max_pooling2d_1 (MaxPooling  (None, 30, 30, 64)       0         \n",
            " 2D)                                                             \n",
            "                                                                 \n",
            " flatten (Flatten)           (None, 57600)             0         \n",
            "                                                                 \n",
            " dense (Dense)               (None, 128)               7372928   \n",
            "                                                                 \n",
            " dropout (Dropout)           (None, 128)               0         \n",
            "                                                                 \n",
            " dense_1 (Dense)             (None, 1)                 129       \n",
            "                                                                 \n",
            "=================================================================\n",
            "Total params: 7,392,449\n",
            "Trainable params: 7,392,449\n",
            "Non-trainable params: 0\n",
            "_________________________________________________________________\n"
          ]
        }
      ]
    },
    {
      "cell_type": "code",
      "source": [
        "# Modeli eğitme\n",
        "history = cnn_model.fit(x_train, y_train, epochs=100, batch_size=32, validation_data=(x_val, y_val))"
      ],
      "metadata": {
        "id": "gYgS7CBcDegq",
        "colab": {
          "base_uri": "https://localhost:8080/"
        },
        "outputId": "b7654342-dc25-4f35-8f2a-28c0a0326310"
      },
      "execution_count": 7,
      "outputs": [
        {
          "output_type": "stream",
          "name": "stdout",
          "text": [
            "Epoch 1/100\n",
            "15/15 [==============================] - 15s 72ms/step - loss: 0.9368 - accuracy: 0.7956 - val_loss: 0.3613 - val_accuracy: 0.8485\n",
            "Epoch 2/100\n",
            "15/15 [==============================] - 0s 25ms/step - loss: 0.3088 - accuracy: 0.8462 - val_loss: 0.3464 - val_accuracy: 0.8636\n",
            "Epoch 3/100\n",
            "15/15 [==============================] - 0s 24ms/step - loss: 0.2600 - accuracy: 0.8813 - val_loss: 0.3428 - val_accuracy: 0.8788\n",
            "Epoch 4/100\n",
            "15/15 [==============================] - 0s 24ms/step - loss: 0.1861 - accuracy: 0.9275 - val_loss: 0.3097 - val_accuracy: 0.8788\n",
            "Epoch 5/100\n",
            "15/15 [==============================] - 0s 22ms/step - loss: 0.1897 - accuracy: 0.9253 - val_loss: 0.4232 - val_accuracy: 0.8788\n",
            "Epoch 6/100\n",
            "15/15 [==============================] - 0s 20ms/step - loss: 0.1819 - accuracy: 0.9319 - val_loss: 0.4014 - val_accuracy: 0.9091\n",
            "Epoch 7/100\n",
            "15/15 [==============================] - 0s 19ms/step - loss: 0.1006 - accuracy: 0.9648 - val_loss: 0.3964 - val_accuracy: 0.9091\n",
            "Epoch 8/100\n",
            "15/15 [==============================] - 0s 19ms/step - loss: 0.0785 - accuracy: 0.9758 - val_loss: 0.3937 - val_accuracy: 0.9242\n",
            "Epoch 9/100\n",
            "15/15 [==============================] - 0s 22ms/step - loss: 0.0414 - accuracy: 0.9912 - val_loss: 0.3380 - val_accuracy: 0.8939\n",
            "Epoch 10/100\n",
            "15/15 [==============================] - 0s 19ms/step - loss: 0.0391 - accuracy: 0.9890 - val_loss: 0.3515 - val_accuracy: 0.9394\n",
            "Epoch 11/100\n",
            "15/15 [==============================] - 0s 19ms/step - loss: 0.0203 - accuracy: 0.9978 - val_loss: 0.3837 - val_accuracy: 0.9394\n",
            "Epoch 12/100\n",
            "15/15 [==============================] - 0s 19ms/step - loss: 0.0141 - accuracy: 0.9978 - val_loss: 0.4154 - val_accuracy: 0.9394\n",
            "Epoch 13/100\n",
            "15/15 [==============================] - 0s 20ms/step - loss: 0.0109 - accuracy: 1.0000 - val_loss: 0.8939 - val_accuracy: 0.8939\n",
            "Epoch 14/100\n",
            "15/15 [==============================] - 0s 18ms/step - loss: 0.0090 - accuracy: 1.0000 - val_loss: 0.5799 - val_accuracy: 0.9242\n",
            "Epoch 15/100\n",
            "15/15 [==============================] - 0s 18ms/step - loss: 0.0100 - accuracy: 1.0000 - val_loss: 0.4456 - val_accuracy: 0.9545\n",
            "Epoch 16/100\n",
            "15/15 [==============================] - 0s 22ms/step - loss: 0.0057 - accuracy: 1.0000 - val_loss: 0.4764 - val_accuracy: 0.9697\n",
            "Epoch 17/100\n",
            "15/15 [==============================] - 0s 20ms/step - loss: 0.0040 - accuracy: 1.0000 - val_loss: 0.5347 - val_accuracy: 0.9545\n",
            "Epoch 18/100\n",
            "15/15 [==============================] - 0s 19ms/step - loss: 0.0063 - accuracy: 0.9978 - val_loss: 0.7203 - val_accuracy: 0.9242\n",
            "Epoch 19/100\n",
            "15/15 [==============================] - 0s 19ms/step - loss: 0.0126 - accuracy: 0.9978 - val_loss: 0.7510 - val_accuracy: 0.9091\n",
            "Epoch 20/100\n",
            "15/15 [==============================] - 0s 19ms/step - loss: 0.0034 - accuracy: 1.0000 - val_loss: 0.5785 - val_accuracy: 0.9242\n",
            "Epoch 21/100\n",
            "15/15 [==============================] - 0s 19ms/step - loss: 0.0037 - accuracy: 1.0000 - val_loss: 0.5618 - val_accuracy: 0.9242\n",
            "Epoch 22/100\n",
            "15/15 [==============================] - 0s 19ms/step - loss: 0.0019 - accuracy: 1.0000 - val_loss: 0.7785 - val_accuracy: 0.9242\n",
            "Epoch 23/100\n",
            "15/15 [==============================] - 0s 19ms/step - loss: 0.0012 - accuracy: 1.0000 - val_loss: 0.6576 - val_accuracy: 0.9394\n",
            "Epoch 24/100\n",
            "15/15 [==============================] - 0s 20ms/step - loss: 6.4886e-04 - accuracy: 1.0000 - val_loss: 0.6576 - val_accuracy: 0.9242\n",
            "Epoch 25/100\n",
            "15/15 [==============================] - 0s 19ms/step - loss: 5.9517e-04 - accuracy: 1.0000 - val_loss: 0.6616 - val_accuracy: 0.9242\n",
            "Epoch 26/100\n",
            "15/15 [==============================] - 0s 19ms/step - loss: 2.5176e-04 - accuracy: 1.0000 - val_loss: 0.6907 - val_accuracy: 0.9394\n",
            "Epoch 27/100\n",
            "15/15 [==============================] - 0s 18ms/step - loss: 4.1593e-04 - accuracy: 1.0000 - val_loss: 0.7063 - val_accuracy: 0.9394\n",
            "Epoch 28/100\n",
            "15/15 [==============================] - 0s 18ms/step - loss: 5.5167e-04 - accuracy: 1.0000 - val_loss: 0.6889 - val_accuracy: 0.9242\n",
            "Epoch 29/100\n",
            "15/15 [==============================] - 0s 18ms/step - loss: 7.5191e-04 - accuracy: 1.0000 - val_loss: 0.7058 - val_accuracy: 0.9545\n",
            "Epoch 30/100\n",
            "15/15 [==============================] - 0s 18ms/step - loss: 5.6508e-04 - accuracy: 1.0000 - val_loss: 0.6710 - val_accuracy: 0.9242\n",
            "Epoch 31/100\n",
            "15/15 [==============================] - 0s 18ms/step - loss: 2.9479e-04 - accuracy: 1.0000 - val_loss: 0.7223 - val_accuracy: 0.9394\n",
            "Epoch 32/100\n",
            "15/15 [==============================] - 0s 18ms/step - loss: 3.1599e-04 - accuracy: 1.0000 - val_loss: 0.7862 - val_accuracy: 0.9545\n",
            "Epoch 33/100\n",
            "15/15 [==============================] - 0s 18ms/step - loss: 3.1845e-04 - accuracy: 1.0000 - val_loss: 0.6706 - val_accuracy: 0.9394\n",
            "Epoch 34/100\n",
            "15/15 [==============================] - 0s 19ms/step - loss: 2.6183e-04 - accuracy: 1.0000 - val_loss: 0.7486 - val_accuracy: 0.9545\n",
            "Epoch 35/100\n",
            "15/15 [==============================] - 0s 18ms/step - loss: 2.5280e-04 - accuracy: 1.0000 - val_loss: 0.7759 - val_accuracy: 0.9545\n",
            "Epoch 36/100\n",
            "15/15 [==============================] - 0s 18ms/step - loss: 1.6664e-04 - accuracy: 1.0000 - val_loss: 0.7301 - val_accuracy: 0.9545\n",
            "Epoch 37/100\n",
            "15/15 [==============================] - 0s 18ms/step - loss: 3.7262e-04 - accuracy: 1.0000 - val_loss: 0.7126 - val_accuracy: 0.9242\n",
            "Epoch 38/100\n",
            "15/15 [==============================] - 0s 21ms/step - loss: 1.9270e-04 - accuracy: 1.0000 - val_loss: 0.7436 - val_accuracy: 0.9545\n",
            "Epoch 39/100\n",
            "15/15 [==============================] - 0s 21ms/step - loss: 3.6149e-04 - accuracy: 1.0000 - val_loss: 0.7114 - val_accuracy: 0.9242\n",
            "Epoch 40/100\n",
            "15/15 [==============================] - 0s 22ms/step - loss: 0.0027 - accuracy: 0.9978 - val_loss: 0.7233 - val_accuracy: 0.8939\n",
            "Epoch 41/100\n",
            "15/15 [==============================] - 0s 21ms/step - loss: 0.0119 - accuracy: 0.9978 - val_loss: 0.4613 - val_accuracy: 0.9091\n",
            "Epoch 42/100\n",
            "15/15 [==============================] - 0s 21ms/step - loss: 0.0171 - accuracy: 0.9956 - val_loss: 0.4966 - val_accuracy: 0.9091\n",
            "Epoch 43/100\n",
            "15/15 [==============================] - 0s 22ms/step - loss: 0.0036 - accuracy: 1.0000 - val_loss: 0.7119 - val_accuracy: 0.9091\n",
            "Epoch 44/100\n",
            "15/15 [==============================] - 0s 23ms/step - loss: 0.0017 - accuracy: 1.0000 - val_loss: 0.6025 - val_accuracy: 0.9091\n",
            "Epoch 45/100\n",
            "15/15 [==============================] - 0s 21ms/step - loss: 8.4324e-04 - accuracy: 1.0000 - val_loss: 0.9110 - val_accuracy: 0.9091\n",
            "Epoch 46/100\n",
            "15/15 [==============================] - 0s 22ms/step - loss: 8.0124e-04 - accuracy: 1.0000 - val_loss: 0.7618 - val_accuracy: 0.9394\n",
            "Epoch 47/100\n",
            "15/15 [==============================] - 0s 21ms/step - loss: 1.9445e-04 - accuracy: 1.0000 - val_loss: 0.7661 - val_accuracy: 0.9394\n",
            "Epoch 48/100\n",
            "15/15 [==============================] - 0s 24ms/step - loss: 8.9993e-04 - accuracy: 1.0000 - val_loss: 0.9463 - val_accuracy: 0.9091\n",
            "Epoch 49/100\n",
            "15/15 [==============================] - 0s 22ms/step - loss: 0.0034 - accuracy: 1.0000 - val_loss: 0.9325 - val_accuracy: 0.9242\n",
            "Epoch 50/100\n",
            "15/15 [==============================] - 0s 19ms/step - loss: 0.0027 - accuracy: 1.0000 - val_loss: 0.6532 - val_accuracy: 0.9394\n",
            "Epoch 51/100\n",
            "15/15 [==============================] - 0s 18ms/step - loss: 0.0014 - accuracy: 1.0000 - val_loss: 0.8088 - val_accuracy: 0.9394\n",
            "Epoch 52/100\n",
            "15/15 [==============================] - 0s 18ms/step - loss: 9.2398e-04 - accuracy: 1.0000 - val_loss: 0.8122 - val_accuracy: 0.9697\n",
            "Epoch 53/100\n",
            "15/15 [==============================] - 0s 18ms/step - loss: 3.3883e-04 - accuracy: 1.0000 - val_loss: 0.8720 - val_accuracy: 0.9545\n",
            "Epoch 54/100\n",
            "15/15 [==============================] - 0s 18ms/step - loss: 3.6663e-04 - accuracy: 1.0000 - val_loss: 0.8744 - val_accuracy: 0.9697\n",
            "Epoch 55/100\n",
            "15/15 [==============================] - 0s 18ms/step - loss: 6.0321e-04 - accuracy: 1.0000 - val_loss: 0.9267 - val_accuracy: 0.9394\n",
            "Epoch 56/100\n",
            "15/15 [==============================] - 0s 18ms/step - loss: 3.7240e-04 - accuracy: 1.0000 - val_loss: 0.9551 - val_accuracy: 0.9394\n",
            "Epoch 57/100\n",
            "15/15 [==============================] - 0s 18ms/step - loss: 1.2241e-04 - accuracy: 1.0000 - val_loss: 0.9524 - val_accuracy: 0.9545\n",
            "Epoch 58/100\n",
            "15/15 [==============================] - 0s 19ms/step - loss: 2.8393e-04 - accuracy: 1.0000 - val_loss: 0.9942 - val_accuracy: 0.9697\n",
            "Epoch 59/100\n",
            "15/15 [==============================] - 0s 18ms/step - loss: 6.8720e-05 - accuracy: 1.0000 - val_loss: 1.0725 - val_accuracy: 0.9394\n",
            "Epoch 60/100\n",
            "15/15 [==============================] - 0s 18ms/step - loss: 9.7342e-05 - accuracy: 1.0000 - val_loss: 1.0089 - val_accuracy: 0.9545\n",
            "Epoch 61/100\n",
            "15/15 [==============================] - 0s 22ms/step - loss: 3.9853e-05 - accuracy: 1.0000 - val_loss: 0.9842 - val_accuracy: 0.9545\n",
            "Epoch 62/100\n",
            "15/15 [==============================] - 0s 19ms/step - loss: 7.2142e-05 - accuracy: 1.0000 - val_loss: 1.0024 - val_accuracy: 0.9545\n",
            "Epoch 63/100\n",
            "15/15 [==============================] - 0s 18ms/step - loss: 9.8961e-05 - accuracy: 1.0000 - val_loss: 1.0449 - val_accuracy: 0.9697\n",
            "Epoch 64/100\n",
            "15/15 [==============================] - 0s 18ms/step - loss: 3.1263e-04 - accuracy: 1.0000 - val_loss: 0.9358 - val_accuracy: 0.9394\n",
            "Epoch 65/100\n",
            "15/15 [==============================] - 0s 21ms/step - loss: 1.2981e-04 - accuracy: 1.0000 - val_loss: 0.9811 - val_accuracy: 0.9697\n",
            "Epoch 66/100\n",
            "15/15 [==============================] - 0s 19ms/step - loss: 7.6417e-05 - accuracy: 1.0000 - val_loss: 1.0048 - val_accuracy: 0.9697\n",
            "Epoch 67/100\n",
            "15/15 [==============================] - 0s 18ms/step - loss: 1.2312e-04 - accuracy: 1.0000 - val_loss: 1.0116 - val_accuracy: 0.9697\n",
            "Epoch 68/100\n",
            "15/15 [==============================] - 0s 19ms/step - loss: 2.5130e-04 - accuracy: 1.0000 - val_loss: 1.0257 - val_accuracy: 0.9545\n",
            "Epoch 69/100\n",
            "15/15 [==============================] - 0s 20ms/step - loss: 7.7615e-05 - accuracy: 1.0000 - val_loss: 1.2081 - val_accuracy: 0.9242\n",
            "Epoch 70/100\n",
            "15/15 [==============================] - 0s 19ms/step - loss: 5.0057e-05 - accuracy: 1.0000 - val_loss: 1.1499 - val_accuracy: 0.9242\n",
            "Epoch 71/100\n",
            "15/15 [==============================] - 0s 19ms/step - loss: 5.8258e-05 - accuracy: 1.0000 - val_loss: 1.1075 - val_accuracy: 0.9394\n",
            "Epoch 72/100\n",
            "15/15 [==============================] - 0s 18ms/step - loss: 0.0012 - accuracy: 1.0000 - val_loss: 0.9442 - val_accuracy: 0.9697\n",
            "Epoch 73/100\n",
            "15/15 [==============================] - 0s 19ms/step - loss: 7.4229e-04 - accuracy: 1.0000 - val_loss: 0.8640 - val_accuracy: 0.9242\n",
            "Epoch 74/100\n",
            "15/15 [==============================] - 0s 19ms/step - loss: 4.9993e-04 - accuracy: 1.0000 - val_loss: 0.8278 - val_accuracy: 0.9394\n",
            "Epoch 75/100\n",
            "15/15 [==============================] - 0s 21ms/step - loss: 1.5036e-04 - accuracy: 1.0000 - val_loss: 0.8891 - val_accuracy: 0.9697\n",
            "Epoch 76/100\n",
            "15/15 [==============================] - 0s 18ms/step - loss: 1.0235e-04 - accuracy: 1.0000 - val_loss: 0.9494 - val_accuracy: 0.9697\n",
            "Epoch 77/100\n",
            "15/15 [==============================] - 0s 18ms/step - loss: 1.6186e-04 - accuracy: 1.0000 - val_loss: 1.1485 - val_accuracy: 0.9242\n",
            "Epoch 78/100\n",
            "15/15 [==============================] - 0s 21ms/step - loss: 6.3026e-05 - accuracy: 1.0000 - val_loss: 1.0877 - val_accuracy: 0.9394\n",
            "Epoch 79/100\n",
            "15/15 [==============================] - 0s 18ms/step - loss: 1.0032e-04 - accuracy: 1.0000 - val_loss: 1.0706 - val_accuracy: 0.9545\n",
            "Epoch 80/100\n",
            "15/15 [==============================] - 0s 18ms/step - loss: 2.5477e-05 - accuracy: 1.0000 - val_loss: 1.0672 - val_accuracy: 0.9545\n",
            "Epoch 81/100\n",
            "15/15 [==============================] - 0s 18ms/step - loss: 9.7504e-05 - accuracy: 1.0000 - val_loss: 1.0296 - val_accuracy: 0.9545\n",
            "Epoch 82/100\n",
            "15/15 [==============================] - 0s 18ms/step - loss: 5.6300e-05 - accuracy: 1.0000 - val_loss: 0.9938 - val_accuracy: 0.9697\n",
            "Epoch 83/100\n",
            "15/15 [==============================] - 0s 19ms/step - loss: 4.9138e-05 - accuracy: 1.0000 - val_loss: 1.0206 - val_accuracy: 0.9697\n",
            "Epoch 84/100\n",
            "15/15 [==============================] - 0s 18ms/step - loss: 1.2525e-04 - accuracy: 1.0000 - val_loss: 1.0123 - val_accuracy: 0.9697\n",
            "Epoch 85/100\n",
            "15/15 [==============================] - 0s 24ms/step - loss: 3.9113e-05 - accuracy: 1.0000 - val_loss: 0.9767 - val_accuracy: 0.9697\n",
            "Epoch 86/100\n",
            "15/15 [==============================] - 0s 22ms/step - loss: 2.5439e-05 - accuracy: 1.0000 - val_loss: 1.0677 - val_accuracy: 0.9545\n",
            "Epoch 87/100\n",
            "15/15 [==============================] - 0s 21ms/step - loss: 2.3743e-05 - accuracy: 1.0000 - val_loss: 1.0742 - val_accuracy: 0.9545\n",
            "Epoch 88/100\n",
            "15/15 [==============================] - 0s 22ms/step - loss: 5.8410e-05 - accuracy: 1.0000 - val_loss: 1.0472 - val_accuracy: 0.9545\n",
            "Epoch 89/100\n",
            "15/15 [==============================] - 0s 22ms/step - loss: 5.0049e-05 - accuracy: 1.0000 - val_loss: 1.0050 - val_accuracy: 0.9697\n",
            "Epoch 90/100\n",
            "15/15 [==============================] - 0s 23ms/step - loss: 5.3671e-05 - accuracy: 1.0000 - val_loss: 1.0734 - val_accuracy: 0.9545\n",
            "Epoch 91/100\n",
            "15/15 [==============================] - 0s 20ms/step - loss: 4.0202e-05 - accuracy: 1.0000 - val_loss: 1.0606 - val_accuracy: 0.9545\n",
            "Epoch 92/100\n",
            "15/15 [==============================] - 0s 23ms/step - loss: 4.7306e-05 - accuracy: 1.0000 - val_loss: 1.0735 - val_accuracy: 0.9545\n",
            "Epoch 93/100\n",
            "15/15 [==============================] - 0s 21ms/step - loss: 2.6376e-05 - accuracy: 1.0000 - val_loss: 1.0522 - val_accuracy: 0.9545\n",
            "Epoch 94/100\n",
            "15/15 [==============================] - 0s 23ms/step - loss: 2.3901e-04 - accuracy: 1.0000 - val_loss: 0.9452 - val_accuracy: 0.9242\n",
            "Epoch 95/100\n",
            "15/15 [==============================] - 0s 21ms/step - loss: 4.0599e-04 - accuracy: 1.0000 - val_loss: 1.5246 - val_accuracy: 0.9091\n",
            "Epoch 96/100\n",
            "15/15 [==============================] - 0s 18ms/step - loss: 1.6882e-04 - accuracy: 1.0000 - val_loss: 1.1157 - val_accuracy: 0.9545\n",
            "Epoch 97/100\n",
            "15/15 [==============================] - 0s 18ms/step - loss: 8.4009e-05 - accuracy: 1.0000 - val_loss: 0.9904 - val_accuracy: 0.9697\n",
            "Epoch 98/100\n",
            "15/15 [==============================] - 0s 18ms/step - loss: 7.7349e-05 - accuracy: 1.0000 - val_loss: 0.9911 - val_accuracy: 0.9697\n",
            "Epoch 99/100\n",
            "15/15 [==============================] - 0s 18ms/step - loss: 6.3655e-05 - accuracy: 1.0000 - val_loss: 1.0073 - val_accuracy: 0.9697\n",
            "Epoch 100/100\n",
            "15/15 [==============================] - 0s 18ms/step - loss: 3.8045e-05 - accuracy: 1.0000 - val_loss: 1.0704 - val_accuracy: 0.9697\n"
          ]
        }
      ]
    },
    {
      "cell_type": "code",
      "source": [
        "test_loss, test_accuracy = cnn_model.evaluate(x_test, y_test)\n",
        "print(\"Test Loss:\", test_loss)\n",
        "print(\"Test Accuracy:\", test_accuracy)\n"
      ],
      "metadata": {
        "colab": {
          "base_uri": "https://localhost:8080/"
        },
        "id": "iGo12ZLy01of",
        "outputId": "45ba41a6-47ef-4cc8-9ab9-b1511d7cbebc"
      },
      "execution_count": 8,
      "outputs": [
        {
          "output_type": "stream",
          "name": "stdout",
          "text": [
            "5/5 [==============================] - 0s 7ms/step - loss: 0.9498 - accuracy: 0.8846\n",
            "Test Loss: 0.9497626423835754\n",
            "Test Accuracy: 0.8846153616905212\n"
          ]
        }
      ]
    },
    {
      "cell_type": "code",
      "source": [
        "# Yeni görüntünün yolu\n",
        "new_image_path = \"/content/yangin.png\"\n",
        "\n",
        "# Görüntüyü yükleme ve işleme\n",
        "new_image = Image.open(new_image_path)\n",
        "new_image = new_image.resize((img_height, img_width))\n",
        "new_image_array = np.array(new_image, dtype=np.float32) / 255.\n",
        "new_image_array = np.expand_dims(new_image_array, axis=0)  # Tek örnek olduğunu belirtmek için boyut ekleyin\n",
        "\n",
        "# Tahmin yapma\n",
        "prediction = cnn_model.predict(new_image_array)\n",
        "\n",
        "# Tahmin sonucunu yazdırma\n",
        "if prediction > 0.5:\n",
        "    print(\"Görüntü yangın içeriyor.\")\n",
        "else:\n",
        "    print(\"Görüntüde yangın yok.\")"
      ],
      "metadata": {
        "colab": {
          "base_uri": "https://localhost:8080/"
        },
        "id": "WrR4eXvX1xdE",
        "outputId": "e0f6a56b-8b30-42ed-fbb3-5e7553ab1215"
      },
      "execution_count": 16,
      "outputs": [
        {
          "output_type": "stream",
          "name": "stdout",
          "text": [
            "1/1 [==============================] - 0s 28ms/step\n",
            "Görüntü yangın içeriyor.\n"
          ]
        }
      ]
    }
  ]
}