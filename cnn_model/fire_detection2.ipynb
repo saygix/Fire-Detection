{
  "nbformat": 4,
  "nbformat_minor": 0,
  "metadata": {
    "colab": {
      "provenance": [],
      "gpuType": "T4"
    },
    "kernelspec": {
      "name": "python3",
      "display_name": "Python 3"
    },
    "language_info": {
      "name": "python"
    },
    "accelerator": "GPU"
  },
  "cells": [
    {
      "cell_type": "code",
      "source": [
        "import os\n",
        "import numpy as np\n",
        "from PIL import Image\n",
        "from keras.models import Sequential\n",
        "from keras.layers import Conv2D, MaxPooling2D, Flatten, Dense, Dropout\n",
        "\n",
        "# Veri seti yolu\n",
        "data_path = \"/content/drive/MyDrive/gdrive/Fire-Detection\"\n",
        "\n",
        "# Sınıf etiketleri\n",
        "class_names = [\"0\", \"1\"]\n",
        "\n",
        "# Veri setindeki görüntü sayısı\n",
        "num_samples = sum([len(files) for r, d, files in os.walk(data_path)])\n",
        "\n",
        "# Veri seti boyutları\n",
        "img_height, img_width = 128, 128\n",
        "num_channels = 3  # Görüntülerin RGB kanal sayısı (3 kanal)\n",
        "\n",
        "# X ve y için numpy dizileri\n",
        "X = np.zeros((num_samples, img_height, img_width, num_channels), dtype=np.float32)\n",
        "y = np.zeros((num_samples,), dtype=np.int32)\n",
        "\n",
        "# Verileri yükleyip numpy dizilerine dönüştürme\n",
        "index = 0\n",
        "for i, class_name in enumerate(class_names):\n",
        "    class_path = os.path.join(data_path, class_name)\n",
        "    for img_name in os.listdir(class_path):\n",
        "        img_path = os.path.join(class_path, img_name)\n",
        "        img = Image.open(img_path)\n",
        "        img = img.convert(\"RGB\")  # Görüntüyü RGB moduna dönüştürmek\n",
        "        img = img.resize((img_height, img_width))\n",
        "        X[index] = np.array(img, dtype=np.float32) / 255.\n",
        "        y[index] = i\n",
        "        index += 1\n",
        "\n",
        "# Veri setini karıştırma\n",
        "np.random.seed(42)\n",
        "shuffle_index = np.random.permutation(num_samples)\n",
        "X, y = X[shuffle_index], y[shuffle_index]\n",
        "\n",
        "# Veri setini train, test ve validation olarak ayırma\n",
        "num_train_samples = int(0.7 * num_samples)\n",
        "num_test_samples = int(0.2 * num_samples)\n",
        "num_val_samples = num_samples - num_train_samples - num_test_samples\n",
        "\n",
        "x_train, y_train = X[:num_train_samples], y[:num_train_samples]\n",
        "x_test, y_test = X[num_train_samples:num_train_samples + num_test_samples], y[\n",
        "                                                                            num_train_samples:num_train_samples + num_test_samples]\n",
        "x_val, y_val = X[num_train_samples + num_test_samples:], y[num_train_samples + num_test_samples:]\n",
        "\n",
        "# Dizileri npy dosyalarına kaydetme\n",
        "np.save('x_train.npy', x_train)\n",
        "np.save('y_train.npy', y_train)\n",
        "np.save('x_test.npy', x_test)\n",
        "np.save('y_test.npy', y_test)\n",
        "np.save('x_val.npy', x_val)\n",
        "np.save('y_val.npy', y_val)\n",
        "\n",
        "# Model oluşturma\n",
        "model = Sequential([\n",
        "    Conv2D(32, (3, 3), activation='relu', input_shape=(img_height, img_width, num_channels)),\n",
        "    MaxPooling2D(2, 2),\n",
        "    Conv2D(64, (3, 3), activation='relu'),\n",
        "    MaxPooling2D(2, 2),\n",
        "    Conv2D(128, (3, 3), activation='relu'),\n",
        "    MaxPooling2D(2, 2),\n",
        "    Flatten(),\n",
        "    Dense(128, activation='relu'),\n",
        "    Dropout(0.5),\n",
        "    Dense(1, activation='sigmoid')\n",
        "])\n",
        "\n",
        "# Modeli derleme\n",
        "model.compile(optimizer='adam', loss='binary_crossentropy', metrics=['accuracy'])\n",
        "\n",
        "# Modeli eğitme\n",
        "history = model.fit(x_train, y_train, epochs=10, batch_size=32, validation_data=(x_val, y_val))\n",
        "\n",
        "# Test verisi üzerinde modeli değerlendirme\n",
        "test_loss, test_accuracy = model.evaluate(x_test, y_test)\n",
        "print(\"Test Loss:\", test_loss)\n",
        "print(\"Test Accuracy:\", test_accuracy)\n"
      ],
      "metadata": {
        "colab": {
          "base_uri": "https://localhost:8080/"
        },
        "id": "WHD2jg5f5FE0",
        "outputId": "5a942e0f-9a0c-46d3-f2fc-f60971ca5243"
      },
      "execution_count": 17,
      "outputs": [
        {
          "output_type": "stream",
          "name": "stdout",
          "text": [
            "Epoch 1/10\n",
            "15/15 [==============================] - 2s 38ms/step - loss: 0.3687 - accuracy: 0.8374 - val_loss: 0.4859 - val_accuracy: 0.8030\n",
            "Epoch 2/10\n",
            "15/15 [==============================] - 0s 34ms/step - loss: 0.3108 - accuracy: 0.8703 - val_loss: 0.3495 - val_accuracy: 0.8485\n",
            "Epoch 3/10\n",
            "15/15 [==============================] - 0s 20ms/step - loss: 0.2586 - accuracy: 0.8901 - val_loss: 0.3417 - val_accuracy: 0.8636\n",
            "Epoch 4/10\n",
            "15/15 [==============================] - 0s 33ms/step - loss: 0.2349 - accuracy: 0.8923 - val_loss: 0.3925 - val_accuracy: 0.7879\n",
            "Epoch 5/10\n",
            "15/15 [==============================] - 0s 20ms/step - loss: 0.2929 - accuracy: 0.8923 - val_loss: 0.3108 - val_accuracy: 0.8636\n",
            "Epoch 6/10\n",
            "15/15 [==============================] - 0s 27ms/step - loss: 0.2207 - accuracy: 0.9033 - val_loss: 0.2770 - val_accuracy: 0.9091\n",
            "Epoch 7/10\n",
            "15/15 [==============================] - 0s 25ms/step - loss: 0.1728 - accuracy: 0.9187 - val_loss: 0.3664 - val_accuracy: 0.8788\n",
            "Epoch 8/10\n",
            "15/15 [==============================] - 0s 23ms/step - loss: 0.1527 - accuracy: 0.9385 - val_loss: 0.3034 - val_accuracy: 0.8788\n",
            "Epoch 9/10\n",
            "15/15 [==============================] - 0s 20ms/step - loss: 0.1237 - accuracy: 0.9560 - val_loss: 0.4050 - val_accuracy: 0.8788\n",
            "Epoch 10/10\n",
            "15/15 [==============================] - 0s 21ms/step - loss: 0.0922 - accuracy: 0.9670 - val_loss: 0.2931 - val_accuracy: 0.8939\n",
            "5/5 [==============================] - 0s 8ms/step - loss: 0.2733 - accuracy: 0.9231\n",
            "Test Loss: 0.2732505202293396\n",
            "Test Accuracy: 0.9230769276618958\n"
          ]
        }
      ]
    },
    {
      "cell_type": "code",
      "source": [
        "# Yeni görüntünün yolu\n",
        "new_image_path = \"/content/ov7670.jpeg\"\n",
        "\n",
        "# Görüntüyü yükleme ve işleme\n",
        "new_image = Image.open(new_image_path)\n",
        "new_image = new_image.resize((img_height, img_width))\n",
        "new_image_array = np.array(new_image, dtype=np.float32) / 255.\n",
        "new_image_array = new_image_array[:, :, :3]  # Yalnızca ilk üç kanalı al\n",
        "\n",
        "# Tahmin yapma\n",
        "prediction = model.predict(np.expand_dims(new_image_array, axis=0))\n",
        "\n",
        "# Tahmin sonucunu yazdırma\n",
        "if prediction > 0.5:\n",
        "    print(\"Görüntü yangın içeriyor.\")\n",
        "else:\n",
        "    print(\"Görüntüde yangın yok.\")\n"
      ],
      "metadata": {
        "colab": {
          "base_uri": "https://localhost:8080/"
        },
        "id": "WrR4eXvX1xdE",
        "outputId": "7f6762c0-ca56-404a-9082-ad74fc00408f"
      },
      "execution_count": 26,
      "outputs": [
        {
          "output_type": "stream",
          "name": "stdout",
          "text": [
            "1/1 [==============================] - 0s 18ms/step\n",
            "Görüntü yangın içeriyor.\n"
          ]
        }
      ]
    }
  ]
}